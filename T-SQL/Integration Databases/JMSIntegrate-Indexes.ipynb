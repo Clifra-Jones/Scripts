{
    "metadata": {
        "kernelspec": {
            "name": "SQL",
            "display_name": "SQL",
            "language": "sql"
        },
        "language_info": {
            "name": "sql",
            "version": ""
        }
    },
    "nbformat_minor": 2,
    "nbformat": 4,
    "cells": [
        {
            "cell_type": "code",
            "source": [
                "CREATE INDEX [DocType_DocTypeCode_ProjectNumber_ItemAmt_Include] ON [JMSIntegrate_Test].[dbo].[PRDOCS] (\n",
                "    [DocType],\n",
                "    [DocTypeCode],\n",
                "    [ProjectNumber],\n",
                "    [ItemAmt]\n",
                "    ) INCLUDE (\n",
                "    [DocNumber],\n",
                "    [ParentEntityID],\n",
                "    [SubLedger]\n",
                "    );\n",
                "\n",
                "--DROP INDEX [DocType_DocTypeCode_ProjectNumber_ItemAmt_Include] ON [JMSIntegrate_Test].[dbo].[PRDOCS];\n",
                "\n",
                "CREATE INDEX [DocType_TransferID] ON [JMSIntegrate_Test].[dbo].[PRDOCS] (\n",
                "    [DocType],\n",
                "    [TransferID]\n",
                ");\n",
                "\n",
                "--DROP INDEX [DocType_TransferID] ON [JMSIntegrate_Test].[dbo].[PRDOCS];\n",
                "\n",
                "CREATE NONCLUSTERED INDEX [TransactionStatus] ON [dbo].[PRDOCS]\n",
                "(\n",
                "\t[TransactionStatus] ASC\n",
                ")\n",
                "\n",
                "--DROP INDEX [TransactionStatus] ON [dbo].[PRDOCS]\n",
                "\n",
                "CREATE NONCLUSTERED INDEX [TransferID] ON [dbo].[PRDOCS]\n",
                "(\n",
                "\t[TransferID] ASC\n",
                ")"
            ],
            "metadata": {
                "azdata_cell_guid": "ed572116-ea46-4524-a213-b918fad71ab2",
                "language": "sql"
            },
            "outputs": [],
            "execution_count": null
        },
        {
            "cell_type": "markdown",
            "source": [
                "DROP INDEX [TransferID] ON [dbo].[PRDOCS]"
            ],
            "metadata": {
                "azdata_cell_guid": "e5db8386-0ab6-496a-afa9-8f2783839aba"
            }
        }
    ]
}